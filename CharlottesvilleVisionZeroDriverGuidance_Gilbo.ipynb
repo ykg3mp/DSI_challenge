{
  "nbformat": 4,
  "nbformat_minor": 0,
  "metadata": {
    "colab": {
      "name": "CharlottesvilleVisionZeroDriverGuidance_Gilbo.ipynb",
      "provenance": [],
      "collapsed_sections": [],
      "include_colab_link": true
    },
    "kernelspec": {
      "name": "python3",
      "display_name": "Python 3"
    }
  },
  "cells": [
    {
      "cell_type": "markdown",
      "metadata": {
        "id": "view-in-github",
        "colab_type": "text"
      },
      "source": [
        "<a href=\"https://colab.research.google.com/github/ykg3mp/DSI_challenge/blob/master/CharlottesvilleVisionZeroDriverGuidance_Gilbo.ipynb\" target=\"_parent\"><img src=\"https://colab.research.google.com/assets/colab-badge.svg\" alt=\"Open In Colab\"/></a>"
      ]
    },
    {
      "cell_type": "markdown",
      "metadata": {
        "id": "DypKr6xpuajh",
        "colab_type": "text"
      },
      "source": [
        "## This code is a DSI project exploration to determine dangerous areas for Charlottesville motorists, pedestrians, and drivers. \n",
        "Last updated 11.4.2019 \n",
        "Yekaterina (Katya) Gilbo "
      ]
    },
    {
      "cell_type": "code",
      "metadata": {
        "id": "ptHen65nrJcq",
        "colab_type": "code",
        "colab": {}
      },
      "source": [
        "import numpy as np\n",
        "import pandas as pd"
      ],
      "execution_count": 0,
      "outputs": []
    },
    {
      "cell_type": "markdown",
      "metadata": {
        "id": "VaLBhfK6sGiK",
        "colab_type": "text"
      },
      "source": [
        "### Import the Data (stored on my github)"
      ]
    },
    {
      "cell_type": "code",
      "metadata": {
        "id": "CJfagi0rsLlZ",
        "colab_type": "code",
        "colab": {
          "base_uri": "https://localhost:8080/",
          "height": 316
        },
        "outputId": "2c91248e-7caa-4832-bd3a-404b20c58c76"
      },
      "source": [
        "# arrest data \n",
        "urlA = \"https://github.com/ykg3mp/DSI_challenge/blob/master/Arrests.csv?raw=true\"\n",
        "df_arrests = pd.read_csv(urlA, sep=\",\")\n",
        "df_arrests.head()"
      ],
      "execution_count": 15,
      "outputs": [
        {
          "output_type": "execute_result",
          "data": {
            "text/html": [
              "<div>\n",
              "<style scoped>\n",
              "    .dataframe tbody tr th:only-of-type {\n",
              "        vertical-align: middle;\n",
              "    }\n",
              "\n",
              "    .dataframe tbody tr th {\n",
              "        vertical-align: top;\n",
              "    }\n",
              "\n",
              "    .dataframe thead th {\n",
              "        text-align: right;\n",
              "    }\n",
              "</style>\n",
              "<table border=\"1\" class=\"dataframe\">\n",
              "  <thead>\n",
              "    <tr style=\"text-align: right;\">\n",
              "      <th></th>\n",
              "      <th>ArrestID</th>\n",
              "      <th>ArrestDatetime</th>\n",
              "      <th>FirstName</th>\n",
              "      <th>HouseNumber</th>\n",
              "      <th>LastName</th>\n",
              "      <th>MiddleName</th>\n",
              "      <th>NameSuffix</th>\n",
              "      <th>Statute</th>\n",
              "      <th>StatuteDescription</th>\n",
              "      <th>Street</th>\n",
              "      <th>Race</th>\n",
              "      <th>Sex</th>\n",
              "    </tr>\n",
              "  </thead>\n",
              "  <tbody>\n",
              "    <tr>\n",
              "      <th>0</th>\n",
              "      <td>1</td>\n",
              "      <td>2019-11-01T20:54:00.000Z</td>\n",
              "      <td>MICAELA</td>\n",
              "      <td>853.0</td>\n",
              "      <td>VILANOVA</td>\n",
              "      <td>NaN</td>\n",
              "      <td>NaN</td>\n",
              "      <td>18.2-119</td>\n",
              "      <td>TRESPASS: AFTER BEING FORBIDDEN TO DO SO</td>\n",
              "      <td>WMAIN ST 213B</td>\n",
              "      <td>White</td>\n",
              "      <td>Female</td>\n",
              "    </tr>\n",
              "    <tr>\n",
              "      <th>1</th>\n",
              "      <td>2</td>\n",
              "      <td>2019-11-01T15:12:00.000Z</td>\n",
              "      <td>RANDOLPH</td>\n",
              "      <td>750.0</td>\n",
              "      <td>COLEMAN</td>\n",
              "      <td>WILLIAM</td>\n",
              "      <td>NaN</td>\n",
              "      <td>53.1-149</td>\n",
              "      <td>PROBATION VIOLATION-FELONY</td>\n",
              "      <td>HARRIS ST 101</td>\n",
              "      <td>Black</td>\n",
              "      <td>Male</td>\n",
              "    </tr>\n",
              "    <tr>\n",
              "      <th>2</th>\n",
              "      <td>3</td>\n",
              "      <td>2019-11-01T13:21:00.000Z</td>\n",
              "      <td>BENNY</td>\n",
              "      <td>750.0</td>\n",
              "      <td>HALTERMAN JR</td>\n",
              "      <td>GORDON</td>\n",
              "      <td>NaN</td>\n",
              "      <td>53.1-149</td>\n",
              "      <td>PROBATION VIOLATION-FELONY</td>\n",
              "      <td>HARRIS ST 101</td>\n",
              "      <td>White</td>\n",
              "      <td>Male</td>\n",
              "    </tr>\n",
              "    <tr>\n",
              "      <th>3</th>\n",
              "      <td>4</td>\n",
              "      <td>2019-10-31T17:24:00.000Z</td>\n",
              "      <td>JOSHUA</td>\n",
              "      <td>406.0</td>\n",
              "      <td>JACKSON</td>\n",
              "      <td>KYLE</td>\n",
              "      <td>NaN</td>\n",
              "      <td>18.2-282(A)</td>\n",
              "      <td>FIREARM/ETC: POINTING/BRANDISHING</td>\n",
              "      <td>GARRETT ST</td>\n",
              "      <td>Black</td>\n",
              "      <td>Male</td>\n",
              "    </tr>\n",
              "    <tr>\n",
              "      <th>4</th>\n",
              "      <td>5</td>\n",
              "      <td>2019-10-31T15:42:00.000Z</td>\n",
              "      <td>CHEYANNE</td>\n",
              "      <td>606.0</td>\n",
              "      <td>WATKINS</td>\n",
              "      <td>MICHELE</td>\n",
              "      <td>NaN</td>\n",
              "      <td>46.2-894,F</td>\n",
              "      <td>ACCIDENT: DRIVER NOT RPT, W/INJURY</td>\n",
              "      <td>E MARKET ST</td>\n",
              "      <td>Black</td>\n",
              "      <td>Female</td>\n",
              "    </tr>\n",
              "  </tbody>\n",
              "</table>\n",
              "</div>"
            ],
            "text/plain": [
              "   ArrestID            ArrestDatetime FirstName  ...         Street   Race     Sex\n",
              "0         1  2019-11-01T20:54:00.000Z   MICAELA  ...  WMAIN ST 213B  White  Female\n",
              "1         2  2019-11-01T15:12:00.000Z  RANDOLPH  ...  HARRIS ST 101  Black    Male\n",
              "2         3  2019-11-01T13:21:00.000Z     BENNY  ...  HARRIS ST 101  White    Male\n",
              "3         4  2019-10-31T17:24:00.000Z    JOSHUA  ...     GARRETT ST  Black    Male\n",
              "4         5  2019-10-31T15:42:00.000Z  CHEYANNE  ...    E MARKET ST  Black  Female\n",
              "\n",
              "[5 rows x 12 columns]"
            ]
          },
          "metadata": {
            "tags": []
          },
          "execution_count": 15
        }
      ]
    },
    {
      "cell_type": "code",
      "metadata": {
        "id": "gxr0ykTxuVQK",
        "colab_type": "code",
        "colab": {
          "base_uri": "https://localhost:8080/",
          "height": 279
        },
        "outputId": "e6b78ac8-14ae-4aa5-8e65-ae3e6f2ed394"
      },
      "source": [
        "# crime data \n",
        "urlC = \"https://github.com/ykg3mp/DSI_challenge/blob/master/Crime_Data.csv?raw=true\"\n",
        "df_crime = pd.read_csv(urlC, sep=\",\")\n",
        "df_crime.head()"
      ],
      "execution_count": 14,
      "outputs": [
        {
          "output_type": "execute_result",
          "data": {
            "text/html": [
              "<div>\n",
              "<style scoped>\n",
              "    .dataframe tbody tr th:only-of-type {\n",
              "        vertical-align: middle;\n",
              "    }\n",
              "\n",
              "    .dataframe tbody tr th {\n",
              "        vertical-align: top;\n",
              "    }\n",
              "\n",
              "    .dataframe thead th {\n",
              "        text-align: right;\n",
              "    }\n",
              "</style>\n",
              "<table border=\"1\" class=\"dataframe\">\n",
              "  <thead>\n",
              "    <tr style=\"text-align: right;\">\n",
              "      <th></th>\n",
              "      <th>RecordID</th>\n",
              "      <th>Offense</th>\n",
              "      <th>IncidentID</th>\n",
              "      <th>BlockNumber</th>\n",
              "      <th>StreetName</th>\n",
              "      <th>Agency</th>\n",
              "      <th>DateReported</th>\n",
              "      <th>HourReported</th>\n",
              "    </tr>\n",
              "  </thead>\n",
              "  <tbody>\n",
              "    <tr>\n",
              "      <th>0</th>\n",
              "      <td>1</td>\n",
              "      <td>Larceny - From Motor Vehicle</td>\n",
              "      <td>201900032245</td>\n",
              "      <td>200.0</td>\n",
              "      <td>OAK ST</td>\n",
              "      <td>CPD</td>\n",
              "      <td>2019-11-03T04:09:40.000Z</td>\n",
              "      <td>9</td>\n",
              "    </tr>\n",
              "    <tr>\n",
              "      <th>1</th>\n",
              "      <td>2</td>\n",
              "      <td>Trespass</td>\n",
              "      <td>201900032232</td>\n",
              "      <td>200.0</td>\n",
              "      <td>RIDGE ST</td>\n",
              "      <td>CPD</td>\n",
              "      <td>2019-11-03T02:41:38.000Z</td>\n",
              "      <td>2241</td>\n",
              "    </tr>\n",
              "    <tr>\n",
              "      <th>2</th>\n",
              "      <td>3</td>\n",
              "      <td>Animal Complaint</td>\n",
              "      <td>201900032212</td>\n",
              "      <td>900.0</td>\n",
              "      <td>RIVES ST</td>\n",
              "      <td>CPD</td>\n",
              "      <td>2019-11-02T23:16:23.000Z</td>\n",
              "      <td>1916</td>\n",
              "    </tr>\n",
              "    <tr>\n",
              "      <th>3</th>\n",
              "      <td>4</td>\n",
              "      <td>Larceny - Shoplifitng</td>\n",
              "      <td>201900032209</td>\n",
              "      <td>200.0</td>\n",
              "      <td>ZAN RD</td>\n",
              "      <td>CPD</td>\n",
              "      <td>2019-11-02T23:04:49.000Z</td>\n",
              "      <td>1904</td>\n",
              "    </tr>\n",
              "    <tr>\n",
              "      <th>4</th>\n",
              "      <td>5</td>\n",
              "      <td>Family Offense - Non-Violent</td>\n",
              "      <td>201900032208</td>\n",
              "      <td>1400.0</td>\n",
              "      <td>HAZEL ST</td>\n",
              "      <td>CPD</td>\n",
              "      <td>2019-11-02T22:41:54.000Z</td>\n",
              "      <td>1841</td>\n",
              "    </tr>\n",
              "  </tbody>\n",
              "</table>\n",
              "</div>"
            ],
            "text/plain": [
              "   RecordID  ... HourReported\n",
              "0         1  ...            9\n",
              "1         2  ...         2241\n",
              "2         3  ...         1916\n",
              "3         4  ...         1904\n",
              "4         5  ...         1841\n",
              "\n",
              "[5 rows x 8 columns]"
            ]
          },
          "metadata": {
            "tags": []
          },
          "execution_count": 14
        }
      ]
    },
    {
      "cell_type": "code",
      "metadata": {
        "id": "FLdIMRsSvQSz",
        "colab_type": "code",
        "colab": {}
      },
      "source": [
        "df_arrests[]"
      ],
      "execution_count": 0,
      "outputs": []
    },
    {
      "cell_type": "markdown",
      "metadata": {
        "id": "xwiy0J05sUDi",
        "colab_type": "text"
      },
      "source": [
        "### Extract Vehicle Related Incidents "
      ]
    },
    {
      "cell_type": "code",
      "metadata": {
        "id": "PtJ8UO5ksYqN",
        "colab_type": "code",
        "colab": {
          "base_uri": "https://localhost:8080/",
          "height": 350
        },
        "outputId": "8bef07cf-c287-4ec2-b390-cdd0a5803a97"
      },
      "source": [
        "import re\n",
        "# from arrest data \n",
        "  # see unique descriptions first to determine necessary key words\n",
        "pd.unique(df_arrests['StatuteDescription']) # 539 unique descriptions -- tough, not standardized \n",
        "\n",
        "  # create mask to get arrests that are driving-related \n",
        "keywordList = 'driver|accident|reck dr|DWI|motor|vehicle|drive|traffic|pedestrian|carjacking|driving|drv|hit'\n",
        "df_arrests_SD = df_arrests['StatuteDescription']\n",
        "keywordMask = df_arrests_SD.str.contains(keywordList, flags=re.IGNORECASE, regex=True, na=False)\n",
        "df_arrests[keywordMask].head()"
      ],
      "execution_count": 35,
      "outputs": [
        {
          "output_type": "execute_result",
          "data": {
            "text/html": [
              "<div>\n",
              "<style scoped>\n",
              "    .dataframe tbody tr th:only-of-type {\n",
              "        vertical-align: middle;\n",
              "    }\n",
              "\n",
              "    .dataframe tbody tr th {\n",
              "        vertical-align: top;\n",
              "    }\n",
              "\n",
              "    .dataframe thead th {\n",
              "        text-align: right;\n",
              "    }\n",
              "</style>\n",
              "<table border=\"1\" class=\"dataframe\">\n",
              "  <thead>\n",
              "    <tr style=\"text-align: right;\">\n",
              "      <th></th>\n",
              "      <th>ArrestID</th>\n",
              "      <th>ArrestDatetime</th>\n",
              "      <th>FirstName</th>\n",
              "      <th>HouseNumber</th>\n",
              "      <th>LastName</th>\n",
              "      <th>MiddleName</th>\n",
              "      <th>NameSuffix</th>\n",
              "      <th>Statute</th>\n",
              "      <th>StatuteDescription</th>\n",
              "      <th>Street</th>\n",
              "      <th>Race</th>\n",
              "      <th>Sex</th>\n",
              "    </tr>\n",
              "  </thead>\n",
              "  <tbody>\n",
              "    <tr>\n",
              "      <th>4</th>\n",
              "      <td>5</td>\n",
              "      <td>2019-10-31T15:42:00.000Z</td>\n",
              "      <td>CHEYANNE</td>\n",
              "      <td>606.0</td>\n",
              "      <td>WATKINS</td>\n",
              "      <td>MICHELE</td>\n",
              "      <td>NaN</td>\n",
              "      <td>46.2-894,F</td>\n",
              "      <td>ACCIDENT: DRIVER NOT RPT, W/INJURY</td>\n",
              "      <td>E MARKET ST</td>\n",
              "      <td>Black</td>\n",
              "      <td>Female</td>\n",
              "    </tr>\n",
              "    <tr>\n",
              "      <th>36</th>\n",
              "      <td>37</td>\n",
              "      <td>2019-10-28T20:24:00.000Z</td>\n",
              "      <td>Tamond</td>\n",
              "      <td>160.0</td>\n",
              "      <td>Martin</td>\n",
              "      <td>Antonio</td>\n",
              "      <td>NaN</td>\n",
              "      <td>46.2-896</td>\n",
              "      <td>ACCIDENT: DRIVER NOT REPT, UNATT PROP DAMAG&lt;$250</td>\n",
              "      <td>PEREGORY LN</td>\n",
              "      <td>nwt</td>\n",
              "      <td>Male</td>\n",
              "    </tr>\n",
              "    <tr>\n",
              "      <th>37</th>\n",
              "      <td>38</td>\n",
              "      <td>2019-10-28T20:24:00.000Z</td>\n",
              "      <td>Tamond</td>\n",
              "      <td>160.0</td>\n",
              "      <td>Martin</td>\n",
              "      <td>Antonio</td>\n",
              "      <td>NaN</td>\n",
              "      <td>46.2-896</td>\n",
              "      <td>ACCIDENT: DRIVER NOT REPT, UNATT PROP DAMAG&lt;$250</td>\n",
              "      <td>PEREGORY LN</td>\n",
              "      <td>nwt</td>\n",
              "      <td>Male</td>\n",
              "    </tr>\n",
              "    <tr>\n",
              "      <th>38</th>\n",
              "      <td>39</td>\n",
              "      <td>2019-10-28T20:24:00.000Z</td>\n",
              "      <td>Tamond</td>\n",
              "      <td>160.0</td>\n",
              "      <td>Martin</td>\n",
              "      <td>Antonio</td>\n",
              "      <td>NaN</td>\n",
              "      <td>46.2-852</td>\n",
              "      <td>RECK DR: GEN, ENDANGER LIFE/LIMB/PROP</td>\n",
              "      <td>PEREGORY LN</td>\n",
              "      <td>nwt</td>\n",
              "      <td>Male</td>\n",
              "    </tr>\n",
              "    <tr>\n",
              "      <th>51</th>\n",
              "      <td>52</td>\n",
              "      <td>2019-10-28T05:38:00.000Z</td>\n",
              "      <td>MATESO</td>\n",
              "      <td>NaN</td>\n",
              "      <td>BULUMA</td>\n",
              "      <td>NaN</td>\n",
              "      <td>NaN</td>\n",
              "      <td>18.2-266</td>\n",
              "      <td>DUI - Alcohol/drugs - injury accident</td>\n",
              "      <td>PRESTON AVE</td>\n",
              "      <td>Black</td>\n",
              "      <td>Male</td>\n",
              "    </tr>\n",
              "  </tbody>\n",
              "</table>\n",
              "</div>"
            ],
            "text/plain": [
              "    ArrestID            ArrestDatetime FirstName  ...       Street   Race     Sex\n",
              "4          5  2019-10-31T15:42:00.000Z  CHEYANNE  ...  E MARKET ST  Black  Female\n",
              "36        37  2019-10-28T20:24:00.000Z    Tamond  ...  PEREGORY LN    nwt    Male\n",
              "37        38  2019-10-28T20:24:00.000Z    Tamond  ...  PEREGORY LN    nwt    Male\n",
              "38        39  2019-10-28T20:24:00.000Z    Tamond  ...  PEREGORY LN    nwt    Male\n",
              "51        52  2019-10-28T05:38:00.000Z    MATESO  ...  PRESTON AVE  Black    Male\n",
              "\n",
              "[5 rows x 12 columns]"
            ]
          },
          "metadata": {
            "tags": []
          },
          "execution_count": 35
        }
      ]
    },
    {
      "cell_type": "markdown",
      "metadata": {
        "id": "0vhVQvWpseEx",
        "colab_type": "text"
      },
      "source": [
        "### Visualize on a map where incidents occur "
      ]
    },
    {
      "cell_type": "code",
      "metadata": {
        "id": "ZxqoOLtbsnhZ",
        "colab_type": "code",
        "colab": {}
      },
      "source": [
        "import sys\n",
        "!{sys.executable} -m pip install geopandas\n",
        "import pandas as pd\n",
        "import geopandas as gpd\n",
        "import geopy\n",
        "from geopy.geocoders import Nominatim\n",
        "from geopy.extra.rate_limiter import RateLimiter\n",
        "import matplotlib.pyplot as plt\n",
        "import folium\n",
        "from folium.plugins import FastMarkerCluster"
      ],
      "execution_count": 0,
      "outputs": []
    },
    {
      "cell_type": "code",
      "metadata": {
        "id": "S1y6G9Od89gH",
        "colab_type": "code",
        "colab": {}
      },
      "source": [
        ""
      ],
      "execution_count": 0,
      "outputs": []
    },
    {
      "cell_type": "markdown",
      "metadata": {
        "id": "eJb1GLDO894y",
        "colab_type": "text"
      },
      "source": [
        "### It will take some time to convert from addresses which need to be reformatted to lats and longs"
      ]
    },
    {
      "cell_type": "code",
      "metadata": {
        "id": "18tAI7_U7dg2",
        "colab_type": "code",
        "colab": {}
      },
      "source": [
        "#https://blog.prototypr.io/interactive-maps-with-python-part-1-aa1563dbe5a9\n",
        "locator = Nominatim(user_agent=\"myGeocoder\")\n",
        "location = locator.geocode(\"Market Street East, Charlottesville, Virginia\")\n",
        "\n",
        "folium_map = folium.Map(location=[location.latitude, location.longitude],\n",
        "                        zoom_start=13,\n",
        "                        )\n",
        "\n",
        "marker = folium.Marker(\n",
        "    location=[location.latitude, location.longitude]).add_to(folium_map)\n",
        "\n"
      ],
      "execution_count": 0,
      "outputs": []
    },
    {
      "cell_type": "markdown",
      "metadata": {
        "id": "Uqscakj19DGc",
        "colab_type": "text"
      },
      "source": [
        "### This is a map showing traffic accidents could be displayed (currently showing just one) and later incorporated into an app with driving directions through Google's API"
      ]
    },
    {
      "cell_type": "code",
      "metadata": {
        "id": "WcDuvBsm7gOr",
        "colab_type": "code",
        "colab": {
          "base_uri": "https://localhost:8080/",
          "height": 529
        },
        "outputId": "763474fc-12a4-4a0a-afcf-ae20f314bf85"
      },
      "source": [
        "folium_map"
      ],
      "execution_count": 98,
      "outputs": [
        {
          "output_type": "execute_result",
          "data": {
            "text/html": [
              "<div style=\"width:100%;\"><div style=\"position:relative;width:100%;height:0;padding-bottom:60%;\"><iframe src=\"data:text/html;charset=utf-8;base64,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\" style=\"position:absolute;width:100%;height:100%;left:0;top:0;border:none !important;\" allowfullscreen webkitallowfullscreen mozallowfullscreen></iframe></div></div>"
            ],
            "text/plain": [
              "<folium.folium.Map at 0x7f12d7511940>"
            ]
          },
          "metadata": {
            "tags": []
          },
          "execution_count": 98
        }
      ]
    },
    {
      "cell_type": "markdown",
      "metadata": {
        "id": "8q04XVEEsqly",
        "colab_type": "text"
      },
      "source": [
        "### Identify problem areas"
      ]
    },
    {
      "cell_type": "code",
      "metadata": {
        "id": "67h9xgLYssRx",
        "colab_type": "code",
        "colab": {}
      },
      "source": [
        "# TO BE DONE"
      ],
      "execution_count": 0,
      "outputs": []
    }
  ]
}